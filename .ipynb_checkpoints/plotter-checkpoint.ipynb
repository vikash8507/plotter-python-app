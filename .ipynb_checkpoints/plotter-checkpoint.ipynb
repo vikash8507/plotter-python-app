{
 "cells": [
  {
   "cell_type": "markdown",
   "metadata": {},
   "source": [
    "# Plotting all graphs"
   ]
  },
  {
   "cell_type": "markdown",
   "metadata": {},
   "source": [
    "### Importing Libraries"
   ]
  },
  {
   "cell_type": "code",
   "execution_count": 1,
   "metadata": {},
   "outputs": [],
   "source": [
    "import pandas as pd\n",
    "import numpy as np\n",
    "import matplotlib.pyplot as plt\n",
    "import plotly as pl\n",
    "import plotly.offline as poff\n",
    "import cufflinks as cf"
   ]
  },
  {
   "cell_type": "code",
   "execution_count": 2,
   "metadata": {},
   "outputs": [
    {
     "data": {
      "text/html": [
       "        <script type=\"text/javascript\">\n",
       "        window.PlotlyConfig = {MathJaxConfig: 'local'};\n",
       "        if (window.MathJax) {MathJax.Hub.Config({SVG: {font: \"STIX-Web\"}});}\n",
       "        if (typeof require !== 'undefined') {\n",
       "        require.undef(\"plotly\");\n",
       "        requirejs.config({\n",
       "            paths: {\n",
       "                'plotly': ['https://cdn.plot.ly/plotly-latest.min']\n",
       "            }\n",
       "        });\n",
       "        require(['plotly'], function(Plotly) {\n",
       "            window._Plotly = Plotly;\n",
       "        });\n",
       "        }\n",
       "        </script>\n",
       "        "
      ]
     },
     "metadata": {},
     "output_type": "display_data"
    },
    {
     "data": {
      "text/html": [
       "        <script type=\"text/javascript\">\n",
       "        window.PlotlyConfig = {MathJaxConfig: 'local'};\n",
       "        if (window.MathJax) {MathJax.Hub.Config({SVG: {font: \"STIX-Web\"}});}\n",
       "        if (typeof require !== 'undefined') {\n",
       "        require.undef(\"plotly\");\n",
       "        requirejs.config({\n",
       "            paths: {\n",
       "                'plotly': ['https://cdn.plot.ly/plotly-latest.min']\n",
       "            }\n",
       "        });\n",
       "        require(['plotly'], function(Plotly) {\n",
       "            window._Plotly = Plotly;\n",
       "        });\n",
       "        }\n",
       "        </script>\n",
       "        "
      ]
     },
     "metadata": {},
     "output_type": "display_data"
    }
   ],
   "source": [
    "poff.init_notebook_mode(connected=True)\n",
    "cf.go_offline()"
   ]
  },
  {
   "cell_type": "markdown",
   "metadata": {},
   "source": [
    "### Define the function for creating data"
   ]
  },
  {
   "cell_type": "code",
   "execution_count": 3,
   "metadata": {},
   "outputs": [],
   "source": [
    "def create_data(data):\n",
    "    if (data == 1):\n",
    "        d = np.random.rand(100, 5)\n",
    "        df = pd.DataFrame(d, columns=['A', 'B', 'C', 'D', 'E'])\n",
    "    elif (data == 2):\n",
    "        columns = []\n",
    "        rows = []\n",
    "        print('Enter 5 columns name.')\n",
    "        for c in range(5):\n",
    "            columns.append(input())\n",
    "        print('Enter your rows data(Only integer acceptable).')\n",
    "        for r in range(5):\n",
    "            print('Enter row', r+1, 'values.')\n",
    "            row = []\n",
    "            for rw in range(5):\n",
    "                row.append(int(input()))\n",
    "            rows.append(row)\n",
    "        df = pd.DataFrame(rows, columns=columns)\n",
    "    elif (data == 3):\n",
    "        file = input('Enter file name: ')\n",
    "        df = pd.read_csv('./data/' + file)\n",
    "    else:\n",
    "        print('Please enter correct choice among 1, 2 or 3.')\n",
    "    return df"
   ]
  },
  {
   "cell_type": "markdown",
   "metadata": {},
   "source": [
    "### Plotter function for printing different plots for category 1"
   ]
  },
  {
   "cell_type": "code",
   "execution_count": 4,
   "metadata": {},
   "outputs": [],
   "source": [
    "def plotter1(plot_no):\n",
    "    if (plot_no == 1):\n",
    "        final_plot = df.iplot(kind='scatter')\n",
    "    elif (plot_no == 2):\n",
    "        final_plot = df.iplot(kind='scatter', mode='markers', symbol='x', colorscale='paired')\n",
    "    elif (plot_no == 3):\n",
    "        final_plot = df.iplot(kind='bar')\n",
    "    elif (plot_no == 4):\n",
    "        final_plot = df.iplot(kind='hist')\n",
    "    elif (plot_no == 5):\n",
    "        final_plot = df.iplot(kind='box')\n",
    "    elif (plot_no == 6):\n",
    "        final_plot = df.iplot(kind='surface')\n",
    "    else:\n",
    "        final_plot = print('Enter plot choice from 1 to 6.')\n",
    "    \n",
    "    return final_plot"
   ]
  },
  {
   "cell_type": "markdown",
   "metadata": {},
   "source": [
    "### Plotter function for printing different plots for category 2"
   ]
  },
  {
   "cell_type": "code",
   "execution_count": null,
   "metadata": {},
   "outputs": [],
   "source": [
    "def plotter2(plot_no):\n",
    "    no_of_col = int(input('Enter number of columns that you want to plot the graph(1, 2 or 3): '))\n",
    "    if no_of_col == 1:\n",
    "        col_name = input('Enter column name: ')\n",
    "        if plot_no == 1:\n",
    "            final_plot = df[col_name].iplot(kind='scatter')\n",
    "        elif plot_no == 2:\n",
    "            final_plot = df[col_name].iplot(kind='scatter', mode='markers', colorscale='paired', symbol='x')\n",
    "        elif plot_no == 3:\n",
    "            final_plot = df[col_name].iplot(kind='bar')\n",
    "        elif plot_no == 4:\n",
    "            final_plot = df[col_name].iplot(kind='hist')\n",
    "        elif plot_no == 5:\n",
    "            final_plot = df[col_name].iplot(kind='box')\n",
    "        elif plot_no == 6 or plot_no == 7:\n",
    "            final_plot = print('Surface plot and Bubble plot required more than 1 column.')\n",
    "        else:\n",
    "            final_plot = print('Enter correct choice from 1 to 7.')\n",
    "    elif no_of_col == 2:\n",
    "        first_col = input('Enter first column name: ')\n",
    "        second_col = input('Enter second colunm name: ')\n",
    "        if plot_no == 1:\n",
    "            final_plot = df[[first_col, second_col]].iplot(kind='scatter')\n",
    "        elif plot_no == 2:\n",
    "            final_plot = df[[first_col, second_col]].iplot(kind='scatter', mode='markers', colorscale='paired', symbol='x')\n",
    "        elif plot_no == 3:\n",
    "            final_plot = df[[first_col, second_col]].iplot(kind='bar')\n",
    "        elif plot_no == 4:\n",
    "            final_plot = df[[first_col, second_col]].iplot(kind='hist')\n",
    "        elif plot_no == 5:\n",
    "            final_plot = df[[first_col, second_col]].iplot(kind='box')\n",
    "        elif plot_no == 6:\n",
    "            final_plot = df[[first_col, second_col]].iplot(kind='surface')\n",
    "        elif plot_no == 7:\n",
    "            size = input('Enter sized column name: ')\n",
    "            final_plot = df.iplot(kind='bubble', x=first_col, y=second_col, size=size)\n",
    "        else:\n",
    "            final_plot = print('Please enter correct choice from 1 to 7.')\n",
    "    elif no_of_col == 3:\n",
    "        first_col = input('Enter first column name: ')\n",
    "        second_col = input('Enter second colunm name: ')\n",
    "        third_col = input('Enter third column name: ')\n",
    "        if plot_no == 1:\n",
    "            final_plot = df[[first_col, second_col, third_col]].iplot(kind='scatter')\n",
    "        elif plot_no == 2:\n",
    "            final_plot = df[[first_col, second_col, third_col]].iplot(kind='scatter', mode='markers', colorscale='paired', symbol='x')\n",
    "        elif plot_no == 3:\n",
    "            final_plot = df[[first_col, second_col, third_col]].iplot(kind='bar')\n",
    "        elif plot_no == 4:\n",
    "            final_plot = df[[first_col, second_col, third_col]].iplot(kind='hist')\n",
    "        elif plot_no == 5:\n",
    "            final_plot = df[[first_col, second_col, third_col]].iplot(kind='box')\n",
    "        elif plot_no == 6:\n",
    "            final_plot = df[[first_col, second_col, third_col]].iplot(kind='surface')\n",
    "        elif plot_no == 7:\n",
    "            size = input('Enter sized column name: ')\n",
    "            final_plot = df.iplot(kind='bubble', x=first_col, y=second_col, z=third_col, size=size)\n",
    "        else:\n",
    "            final_plot = print('Please enter correct choice from 1 to 7.')\n",
    "    else:\n",
    "        print('Enter number of columns from 1, 2 or 3.')\n",
    "        \n",
    "    return final_plot"
   ]
  },
  {
   "cell_type": "code",
   "execution_count": 14,
   "metadata": {},
   "outputs": [],
   "source": [
    "def plotter2(plot_no):\n",
    "    no_of_col = int(input('Enter number of columns that you want to plot the graph(1, 2 or 3): '))\n",
    "    if no_of_col == 1:\n",
    "        col_name = input('Enter column name: ')\n",
    "        if plot_no == 1:\n",
    "            final_plot = df[col_name].iplot(kind='scatter')\n",
    "        elif plot_no == 2:\n",
    "            final_plot = df[col_name].iplot(kind='scatter', mode='markers', colorscale='paired', symbol='x')\n",
    "        elif plot_no == 3:\n",
    "            final_plot = df[col_name].iplot(kind='bar')\n",
    "        elif plot_no == 4:\n",
    "            final_plot = df[col_name].iplot(kind='hist')\n",
    "        elif plot_no == 5:\n",
    "            final_plot = df[col_name].iplot(kind='box')\n",
    "        elif plot_no == 6:\n",
    "            final_plot = print('Surface plot and Bubble plot required more than 1 column.')\n",
    "        else:\n",
    "            final_plot = print('Enter correct choice from 1 to 6.')\n",
    "    elif no_of_col > 1 and no_of_col <= len(df.columns):\n",
    "        col_names = []\n",
    "        for col in range(1, no_of_col+1):\n",
    "            col_names.append(input('Enter ' + str(col) + ' column name: '))\n",
    "        if plot_no == 1:\n",
    "            final_plot = df[col_names].iplot(kind='scatter')\n",
    "        elif plot_no == 2:\n",
    "            final_plot = df[col_names].iplot(kind='scatter', mode='markers', colorscale='paired')\n",
    "        elif plot_no == 3:\n",
    "            final_plot = df[col_names].iplot(kind='bar')\n",
    "        elif plot_no == 4:\n",
    "            final_plot = df[col_names].iplot(kind='hist')\n",
    "        elif plot_no == 5:\n",
    "            final_plot = df[col_names].iplot(kind='box')\n",
    "        elif plot_no == 6:\n",
    "            final_plot = df[col_names].iplot(kind='surface')\n",
    "        else:\n",
    "            final_plot = print('Please enterchice from 1 to 6.')\n",
    "    else:\n",
    "        final_plot = print('Enter umber or columns form 1 to', len(df.columns))\n",
    "    \n",
    "    return final_plot"
   ]
  },
  {
   "cell_type": "markdown",
   "metadata": {},
   "source": [
    "### Main function for handling plots"
   ]
  },
  {
   "cell_type": "code",
   "execution_count": 6,
   "metadata": {},
   "outputs": [],
   "source": [
    "def main(cat):\n",
    "    if (cat == 1):\n",
    "        print('Enter which type of graph you want to print.')\n",
    "        print(' 1. Line Plot\\n 2. Scatter Plot\\n 3. Bar Plot\\n 4. Histogram\\n 5. Box Plot\\n 6. Surface Plot')\n",
    "        plot_no = int(input('Enter choice between 1 to 6: '))\n",
    "        graph_plot = plotter1(plot_no)\n",
    "    elif (cat == 2):\n",
    "        print('Enter which type of graph you want to print.')\n",
    "        print(' 1. Line Plot\\n 2. Scatter Plot\\n 3. Bar Plot\\n 4. Histogram\\n 5. Box Plot\\n 6. Surface Plot')\n",
    "        plot_no = int(input('Enter choice between 1 to 6: '))\n",
    "        graph_plot = plotter2(plot_no)\n",
    "    else:\n",
    "        print('Enter choice either 1 or 2.')\n",
    "    \n",
    "    return graph_plot"
   ]
  },
  {
   "cell_type": "markdown",
   "metadata": {},
   "source": [
    "### Working for input choice on which type of data required to plot the graph"
   ]
  },
  {
   "cell_type": "code",
   "execution_count": 7,
   "metadata": {
    "scrolled": false
   },
   "outputs": [
    {
     "name": "stdout",
     "output_type": "stream",
     "text": [
      "Enter which type of data you have for ploting the graphs(By Entring 1, 2 or 3).\n",
      "1.Random data with 100 rows and 5 columns.\n",
      "2.Customize data with 5 rows and 5 columns.\n",
      "3.Enter csv file name.\n",
      "3\n",
      "Enter file name: iris.csv\n"
     ]
    }
   ],
   "source": [
    "print('Enter which type of data you have for ploting the graphs(By Entring 1, 2 or 3).')\n",
    "print('1.Random data with 100 rows and 5 columns.')\n",
    "print('2.Customize data with 5 rows and 5 columns.')\n",
    "print('3.Enter csv file name.')\n",
    "data = int(input())\n",
    "df = create_data(data)"
   ]
  },
  {
   "cell_type": "code",
   "execution_count": 8,
   "metadata": {},
   "outputs": [
    {
     "name": "stdout",
     "output_type": "stream",
     "text": [
      "Your data look like top 5 rows.\n"
     ]
    },
    {
     "data": {
      "text/html": [
       "<div>\n",
       "<style scoped>\n",
       "    .dataframe tbody tr th:only-of-type {\n",
       "        vertical-align: middle;\n",
       "    }\n",
       "\n",
       "    .dataframe tbody tr th {\n",
       "        vertical-align: top;\n",
       "    }\n",
       "\n",
       "    .dataframe thead th {\n",
       "        text-align: right;\n",
       "    }\n",
       "</style>\n",
       "<table border=\"1\" class=\"dataframe\">\n",
       "  <thead>\n",
       "    <tr style=\"text-align: right;\">\n",
       "      <th></th>\n",
       "      <th>SepalLength</th>\n",
       "      <th>SepalWidth</th>\n",
       "      <th>PetalLength</th>\n",
       "      <th>PetalWidth</th>\n",
       "      <th>Name</th>\n",
       "    </tr>\n",
       "  </thead>\n",
       "  <tbody>\n",
       "    <tr>\n",
       "      <th>0</th>\n",
       "      <td>5.1</td>\n",
       "      <td>3.5</td>\n",
       "      <td>1.4</td>\n",
       "      <td>0.2</td>\n",
       "      <td>Iris-setosa</td>\n",
       "    </tr>\n",
       "    <tr>\n",
       "      <th>1</th>\n",
       "      <td>4.9</td>\n",
       "      <td>3.0</td>\n",
       "      <td>1.4</td>\n",
       "      <td>0.2</td>\n",
       "      <td>Iris-setosa</td>\n",
       "    </tr>\n",
       "    <tr>\n",
       "      <th>2</th>\n",
       "      <td>4.7</td>\n",
       "      <td>3.2</td>\n",
       "      <td>1.3</td>\n",
       "      <td>0.2</td>\n",
       "      <td>Iris-setosa</td>\n",
       "    </tr>\n",
       "    <tr>\n",
       "      <th>3</th>\n",
       "      <td>4.6</td>\n",
       "      <td>3.1</td>\n",
       "      <td>1.5</td>\n",
       "      <td>0.2</td>\n",
       "      <td>Iris-setosa</td>\n",
       "    </tr>\n",
       "    <tr>\n",
       "      <th>4</th>\n",
       "      <td>5.0</td>\n",
       "      <td>3.6</td>\n",
       "      <td>1.4</td>\n",
       "      <td>0.2</td>\n",
       "      <td>Iris-setosa</td>\n",
       "    </tr>\n",
       "  </tbody>\n",
       "</table>\n",
       "</div>"
      ],
      "text/plain": [
       "   SepalLength  SepalWidth  PetalLength  PetalWidth         Name\n",
       "0          5.1         3.5          1.4         0.2  Iris-setosa\n",
       "1          4.9         3.0          1.4         0.2  Iris-setosa\n",
       "2          4.7         3.2          1.3         0.2  Iris-setosa\n",
       "3          4.6         3.1          1.5         0.2  Iris-setosa\n",
       "4          5.0         3.6          1.4         0.2  Iris-setosa"
      ]
     },
     "execution_count": 8,
     "metadata": {},
     "output_type": "execute_result"
    }
   ],
   "source": [
    "print('Your data look like top 5 rows.')\n",
    "\n",
    "df.head()"
   ]
  },
  {
   "cell_type": "code",
   "execution_count": 9,
   "metadata": {},
   "outputs": [
    {
     "name": "stdout",
     "output_type": "stream",
     "text": [
      "Your data look like last 5 rows\n"
     ]
    },
    {
     "data": {
      "text/html": [
       "<div>\n",
       "<style scoped>\n",
       "    .dataframe tbody tr th:only-of-type {\n",
       "        vertical-align: middle;\n",
       "    }\n",
       "\n",
       "    .dataframe tbody tr th {\n",
       "        vertical-align: top;\n",
       "    }\n",
       "\n",
       "    .dataframe thead th {\n",
       "        text-align: right;\n",
       "    }\n",
       "</style>\n",
       "<table border=\"1\" class=\"dataframe\">\n",
       "  <thead>\n",
       "    <tr style=\"text-align: right;\">\n",
       "      <th></th>\n",
       "      <th>SepalLength</th>\n",
       "      <th>SepalWidth</th>\n",
       "      <th>PetalLength</th>\n",
       "      <th>PetalWidth</th>\n",
       "      <th>Name</th>\n",
       "    </tr>\n",
       "  </thead>\n",
       "  <tbody>\n",
       "    <tr>\n",
       "      <th>145</th>\n",
       "      <td>6.7</td>\n",
       "      <td>3.0</td>\n",
       "      <td>5.2</td>\n",
       "      <td>2.3</td>\n",
       "      <td>Iris-virginica</td>\n",
       "    </tr>\n",
       "    <tr>\n",
       "      <th>146</th>\n",
       "      <td>6.3</td>\n",
       "      <td>2.5</td>\n",
       "      <td>5.0</td>\n",
       "      <td>1.9</td>\n",
       "      <td>Iris-virginica</td>\n",
       "    </tr>\n",
       "    <tr>\n",
       "      <th>147</th>\n",
       "      <td>6.5</td>\n",
       "      <td>3.0</td>\n",
       "      <td>5.2</td>\n",
       "      <td>2.0</td>\n",
       "      <td>Iris-virginica</td>\n",
       "    </tr>\n",
       "    <tr>\n",
       "      <th>148</th>\n",
       "      <td>6.2</td>\n",
       "      <td>3.4</td>\n",
       "      <td>5.4</td>\n",
       "      <td>2.3</td>\n",
       "      <td>Iris-virginica</td>\n",
       "    </tr>\n",
       "    <tr>\n",
       "      <th>149</th>\n",
       "      <td>5.9</td>\n",
       "      <td>3.0</td>\n",
       "      <td>5.1</td>\n",
       "      <td>1.8</td>\n",
       "      <td>Iris-virginica</td>\n",
       "    </tr>\n",
       "  </tbody>\n",
       "</table>\n",
       "</div>"
      ],
      "text/plain": [
       "     SepalLength  SepalWidth  PetalLength  PetalWidth            Name\n",
       "145          6.7         3.0          5.2         2.3  Iris-virginica\n",
       "146          6.3         2.5          5.0         1.9  Iris-virginica\n",
       "147          6.5         3.0          5.2         2.0  Iris-virginica\n",
       "148          6.2         3.4          5.4         2.3  Iris-virginica\n",
       "149          5.9         3.0          5.1         1.8  Iris-virginica"
      ]
     },
     "execution_count": 9,
     "metadata": {},
     "output_type": "execute_result"
    }
   ],
   "source": [
    "print('Your data look like last 5 rows')\n",
    "df.tail()"
   ]
  },
  {
   "cell_type": "code",
   "execution_count": 10,
   "metadata": {},
   "outputs": [
    {
     "name": "stdout",
     "output_type": "stream",
     "text": [
      "Your data's info.\n",
      "<class 'pandas.core.frame.DataFrame'>\n",
      "RangeIndex: 150 entries, 0 to 149\n",
      "Data columns (total 5 columns):\n",
      " #   Column       Non-Null Count  Dtype  \n",
      "---  ------       --------------  -----  \n",
      " 0   SepalLength  150 non-null    float64\n",
      " 1   SepalWidth   150 non-null    float64\n",
      " 2   PetalLength  150 non-null    float64\n",
      " 3   PetalWidth   150 non-null    float64\n",
      " 4   Name         150 non-null    object \n",
      "dtypes: float64(4), object(1)\n",
      "memory usage: 5.3+ KB\n"
     ]
    }
   ],
   "source": [
    "print('Your data\\'s info.')\n",
    "df.info()"
   ]
  },
  {
   "cell_type": "code",
   "execution_count": 11,
   "metadata": {},
   "outputs": [
    {
     "name": "stdout",
     "output_type": "stream",
     "text": [
      "Data describe.\n"
     ]
    },
    {
     "data": {
      "text/html": [
       "<div>\n",
       "<style scoped>\n",
       "    .dataframe tbody tr th:only-of-type {\n",
       "        vertical-align: middle;\n",
       "    }\n",
       "\n",
       "    .dataframe tbody tr th {\n",
       "        vertical-align: top;\n",
       "    }\n",
       "\n",
       "    .dataframe thead th {\n",
       "        text-align: right;\n",
       "    }\n",
       "</style>\n",
       "<table border=\"1\" class=\"dataframe\">\n",
       "  <thead>\n",
       "    <tr style=\"text-align: right;\">\n",
       "      <th></th>\n",
       "      <th>SepalLength</th>\n",
       "      <th>SepalWidth</th>\n",
       "      <th>PetalLength</th>\n",
       "      <th>PetalWidth</th>\n",
       "    </tr>\n",
       "  </thead>\n",
       "  <tbody>\n",
       "    <tr>\n",
       "      <th>count</th>\n",
       "      <td>150.000000</td>\n",
       "      <td>150.000000</td>\n",
       "      <td>150.000000</td>\n",
       "      <td>150.000000</td>\n",
       "    </tr>\n",
       "    <tr>\n",
       "      <th>mean</th>\n",
       "      <td>5.843333</td>\n",
       "      <td>3.054000</td>\n",
       "      <td>3.758667</td>\n",
       "      <td>1.198667</td>\n",
       "    </tr>\n",
       "    <tr>\n",
       "      <th>std</th>\n",
       "      <td>0.828066</td>\n",
       "      <td>0.433594</td>\n",
       "      <td>1.764420</td>\n",
       "      <td>0.763161</td>\n",
       "    </tr>\n",
       "    <tr>\n",
       "      <th>min</th>\n",
       "      <td>4.300000</td>\n",
       "      <td>2.000000</td>\n",
       "      <td>1.000000</td>\n",
       "      <td>0.100000</td>\n",
       "    </tr>\n",
       "    <tr>\n",
       "      <th>25%</th>\n",
       "      <td>5.100000</td>\n",
       "      <td>2.800000</td>\n",
       "      <td>1.600000</td>\n",
       "      <td>0.300000</td>\n",
       "    </tr>\n",
       "    <tr>\n",
       "      <th>50%</th>\n",
       "      <td>5.800000</td>\n",
       "      <td>3.000000</td>\n",
       "      <td>4.350000</td>\n",
       "      <td>1.300000</td>\n",
       "    </tr>\n",
       "    <tr>\n",
       "      <th>75%</th>\n",
       "      <td>6.400000</td>\n",
       "      <td>3.300000</td>\n",
       "      <td>5.100000</td>\n",
       "      <td>1.800000</td>\n",
       "    </tr>\n",
       "    <tr>\n",
       "      <th>max</th>\n",
       "      <td>7.900000</td>\n",
       "      <td>4.400000</td>\n",
       "      <td>6.900000</td>\n",
       "      <td>2.500000</td>\n",
       "    </tr>\n",
       "  </tbody>\n",
       "</table>\n",
       "</div>"
      ],
      "text/plain": [
       "       SepalLength  SepalWidth  PetalLength  PetalWidth\n",
       "count   150.000000  150.000000   150.000000  150.000000\n",
       "mean      5.843333    3.054000     3.758667    1.198667\n",
       "std       0.828066    0.433594     1.764420    0.763161\n",
       "min       4.300000    2.000000     1.000000    0.100000\n",
       "25%       5.100000    2.800000     1.600000    0.300000\n",
       "50%       5.800000    3.000000     4.350000    1.300000\n",
       "75%       6.400000    3.300000     5.100000    1.800000\n",
       "max       7.900000    4.400000     6.900000    2.500000"
      ]
     },
     "execution_count": 11,
     "metadata": {},
     "output_type": "execute_result"
    }
   ],
   "source": [
    "print('Data describe.')\n",
    "df.describe()"
   ]
  },
  {
   "cell_type": "code",
   "execution_count": 12,
   "metadata": {},
   "outputs": [
    {
     "name": "stdout",
     "output_type": "stream",
     "text": [
      "Enter 1 for plotting all columns or enter 2 for specifying columns for printing the plot.\n",
      "Enter category: 2\n"
     ]
    }
   ],
   "source": [
    "print('Enter 1 for plotting all columns or enter 2 for specifying columns for printing the plot.')\n",
    "cat = int(input('Enter category: '))"
   ]
  },
  {
   "cell_type": "code",
   "execution_count": 15,
   "metadata": {},
   "outputs": [
    {
     "name": "stdout",
     "output_type": "stream",
     "text": [
      "Enter which type of graph you want to print.\n",
      " 1. Line Plot\n",
      " 2. Scatter Plot\n",
      " 3. Bar Plot\n",
      " 4. Histogram\n",
      " 5. Box Plot\n",
      " 6. Surface Plot\n",
      "Enter choice between 1 to 6: 1\n",
      "Enter number of columns that you want to plot the graph(1, 2 or 3): 12\n",
      "Enter umber or columns form 1 to 5\n"
     ]
    }
   ],
   "source": [
    "main(cat)"
   ]
  },
  {
   "cell_type": "code",
   "execution_count": null,
   "metadata": {},
   "outputs": [],
   "source": [
    "main(cat)"
   ]
  },
  {
   "cell_type": "code",
   "execution_count": null,
   "metadata": {},
   "outputs": [],
   "source": [
    "main(cat)"
   ]
  },
  {
   "cell_type": "code",
   "execution_count": null,
   "metadata": {},
   "outputs": [],
   "source": [
    "main(cat)"
   ]
  },
  {
   "cell_type": "code",
   "execution_count": null,
   "metadata": {},
   "outputs": [],
   "source": [
    "main(cat)"
   ]
  },
  {
   "cell_type": "code",
   "execution_count": null,
   "metadata": {},
   "outputs": [],
   "source": [
    "main(cat)"
   ]
  },
  {
   "cell_type": "code",
   "execution_count": null,
   "metadata": {},
   "outputs": [],
   "source": [
    "print('Enter 1 for plotting all columns or enter 2 for specifying columns for printing the plot.')\n",
    "cat = int(input('Enter category: '))"
   ]
  },
  {
   "cell_type": "code",
   "execution_count": null,
   "metadata": {},
   "outputs": [],
   "source": [
    "main(cat)"
   ]
  },
  {
   "cell_type": "code",
   "execution_count": null,
   "metadata": {},
   "outputs": [],
   "source": [
    "main(cat)"
   ]
  },
  {
   "cell_type": "code",
   "execution_count": null,
   "metadata": {},
   "outputs": [],
   "source": [
    "main(cat)"
   ]
  },
  {
   "cell_type": "code",
   "execution_count": null,
   "metadata": {},
   "outputs": [],
   "source": [
    "main(cat)"
   ]
  },
  {
   "cell_type": "code",
   "execution_count": null,
   "metadata": {},
   "outputs": [],
   "source": [
    "main(cat)"
   ]
  },
  {
   "cell_type": "code",
   "execution_count": null,
   "metadata": {},
   "outputs": [],
   "source": [
    "main(cat)"
   ]
  },
  {
   "cell_type": "code",
   "execution_count": null,
   "metadata": {},
   "outputs": [],
   "source": [
    "main(cat)"
   ]
  },
  {
   "cell_type": "code",
   "execution_count": null,
   "metadata": {},
   "outputs": [],
   "source": [
    "main(cat)"
   ]
  },
  {
   "cell_type": "code",
   "execution_count": null,
   "metadata": {},
   "outputs": [],
   "source": [
    "main(cat)"
   ]
  },
  {
   "cell_type": "code",
   "execution_count": null,
   "metadata": {},
   "outputs": [],
   "source": [
    "main(cat)"
   ]
  },
  {
   "cell_type": "code",
   "execution_count": null,
   "metadata": {},
   "outputs": [],
   "source": [
    "main(cat)"
   ]
  },
  {
   "cell_type": "code",
   "execution_count": null,
   "metadata": {},
   "outputs": [],
   "source": [
    "main(cat)"
   ]
  },
  {
   "cell_type": "code",
   "execution_count": null,
   "metadata": {},
   "outputs": [],
   "source": [
    "main(cat)"
   ]
  },
  {
   "cell_type": "code",
   "execution_count": null,
   "metadata": {},
   "outputs": [],
   "source": [
    "main(cat)"
   ]
  }
 ],
 "metadata": {
  "kernelspec": {
   "display_name": "Python 3",
   "language": "python",
   "name": "python3"
  },
  "language_info": {
   "codemirror_mode": {
    "name": "ipython",
    "version": 3
   },
   "file_extension": ".py",
   "mimetype": "text/x-python",
   "name": "python",
   "nbconvert_exporter": "python",
   "pygments_lexer": "ipython3",
   "version": "3.8.5"
  }
 },
 "nbformat": 4,
 "nbformat_minor": 4
}
